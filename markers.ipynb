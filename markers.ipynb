{
 "cells": [
  {
   "cell_type": "code",
   "execution_count": 1,
   "id": "3f15fc78",
   "metadata": {},
   "outputs": [
    {
     "name": "stdout",
     "output_type": "stream",
     "text": [
      "Defaulting to user installation because normal site-packages is not writeable\n",
      "Collecting pyxdf\n",
      "  Downloading pyxdf-1.17.0-py3-none-any.whl.metadata (4.9 kB)\n",
      "Collecting numpy>=2.0.2 (from pyxdf)\n",
      "  Using cached numpy-2.2.6-cp312-cp312-win_amd64.whl.metadata (60 kB)\n",
      "Downloading pyxdf-1.17.0-py3-none-any.whl (18 kB)\n",
      "Using cached numpy-2.2.6-cp312-cp312-win_amd64.whl (12.6 MB)\n",
      "Installing collected packages: numpy, pyxdf\n",
      "  Attempting uninstall: numpy\n",
      "    Found existing installation: numpy 1.26.4\n",
      "    Uninstalling numpy-1.26.4:\n",
      "      Successfully uninstalled numpy-1.26.4\n",
      "Successfully installed numpy-2.2.6 pyxdf-1.17.0\n",
      "Note: you may need to restart the kernel to use updated packages.\n"
     ]
    },
    {
     "name": "stderr",
     "output_type": "stream",
     "text": [
      "ERROR: pip's dependency resolver does not currently take into account all the packages that are installed. This behaviour is the source of the following dependency conflicts.\n",
      "tensorflow 2.19.0 requires numpy<2.2.0,>=1.26.0, but you have numpy 2.2.6 which is incompatible.\n",
      "contourpy 1.2.0 requires numpy<2.0,>=1.20, but you have numpy 2.2.6 which is incompatible.\n",
      "gensim 4.3.3 requires numpy<2.0,>=1.18.5, but you have numpy 2.2.6 which is incompatible.\n",
      "numba 0.60.0 requires numpy<2.1,>=1.22, but you have numpy 2.2.6 which is incompatible.\n"
     ]
    }
   ],
   "source": [
    "pip install pyxdf\n"
   ]
  },
  {
   "cell_type": "code",
   "execution_count": 18,
   "id": "72847235",
   "metadata": {},
   "outputs": [
    {
     "name": "stdout",
     "output_type": "stream",
     "text": [
      "Found 1 streams.\n"
     ]
    }
   ],
   "source": [
    "import pyxdf\n",
    "\n",
    "# Path to your recorded file (from LabRecorder)\n",
    "xdf_path = r\"C:\\Users\\Sahaj Bindal\\OneDrive\\Desktop\\New folder\\exp003\\block_Default.xdf\"\n",
    "\n",
    "# Load the streams\n",
    "streams, fileheader = pyxdf.load_xdf(xdf_path)\n",
    "\n",
    "# Print number of streams found\n",
    "print(f\"Found {len(streams)} streams.\")\n"
   ]
  },
  {
   "cell_type": "code",
   "execution_count": 19,
   "id": "57400831",
   "metadata": {},
   "outputs": [
    {
     "name": "stdout",
     "output_type": "stream",
     "text": [
      "\n",
      "Stream 0:\n",
      "  Name: Markers\n",
      "  Type: Markers\n",
      "  Channel count: 1\n",
      "  Sample count: 21\n"
     ]
    }
   ],
   "source": [
    "for i, stream in enumerate(streams):\n",
    "    print(f\"\\nStream {i}:\")\n",
    "    print(f\"  Name: {stream['info']['name'][0]}\")\n",
    "    print(f\"  Type: {stream['info']['type'][0]}\")\n",
    "    print(f\"  Channel count: {stream['info']['channel_count'][0]}\")\n",
    "    print(f\"  Sample count: {len(stream['time_series'])}\")\n"
   ]
  },
  {
   "cell_type": "code",
   "execution_count": 20,
   "id": "e068e5e2",
   "metadata": {},
   "outputs": [
    {
     "name": "stdout",
     "output_type": "stream",
     "text": [
      "Time: 11334.205 - Marker: ImageStart_sport.jpg\n",
      "Time: 11335.670 - Marker: ImageEnd_sport.jpg\n",
      "Time: 11337.943 - Marker: ImageStart_furniture.jpg\n",
      "Time: 11339.388 - Marker: ImageEnd_furniture.jpg\n",
      "Time: 11341.110 - Marker: ImageStart_food.jpg\n",
      "Time: 11342.538 - Marker: ImageEnd_food.jpg\n",
      "Time: 11344.375 - Marker: ImageStart_tool.jpg\n",
      "Time: 11345.821 - Marker: ImageEnd_tool.jpg\n",
      "Time: 11347.901 - Marker: ImageStart_animal.jpg\n",
      "Time: 11349.355 - Marker: ImageEnd_animal.jpg\n",
      "Time: 11351.104 - Marker: ImageStart_nature.jpg\n",
      "Time: 11352.555 - Marker: ImageEnd_nature.jpg\n",
      "Time: 11354.407 - Marker: ImageStart_building.jpg\n",
      "Time: 11355.854 - Marker: ImageEnd_building.jpg\n",
      "Time: 11357.606 - Marker: ImageStart_person.jpg\n",
      "Time: 11359.055 - Marker: ImageEnd_person.jpg\n",
      "Time: 11360.820 - Marker: ImageStart_electronic.jpg\n",
      "Time: 11362.273 - Marker: ImageEnd_electronic.jpg\n",
      "Time: 11363.874 - Marker: ImageStart_vehicle.jpg\n",
      "Time: 11365.340 - Marker: ImageEnd_vehicle.jpg\n",
      "Time: 11365.364 - Marker: \n"
     ]
    }
   ],
   "source": [
    "marker_stream = streams[0]  # adjust index as needed\n",
    "\n",
    "for ts, value in zip(marker_stream['time_stamps'], marker_stream['time_series']):\n",
    "    print(f\"Time: {ts:.3f} - Marker: {value[0]}\")\n"
   ]
  },
  {
   "cell_type": "code",
   "execution_count": null,
   "id": "51756a2c",
   "metadata": {},
   "outputs": [],
   "source": []
  }
 ],
 "metadata": {
  "kernelspec": {
   "display_name": "base",
   "language": "python",
   "name": "python3"
  },
  "language_info": {
   "codemirror_mode": {
    "name": "ipython",
    "version": 3
   },
   "file_extension": ".py",
   "mimetype": "text/x-python",
   "name": "python",
   "nbconvert_exporter": "python",
   "pygments_lexer": "ipython3",
   "version": "3.12.7"
  }
 },
 "nbformat": 4,
 "nbformat_minor": 5
}
