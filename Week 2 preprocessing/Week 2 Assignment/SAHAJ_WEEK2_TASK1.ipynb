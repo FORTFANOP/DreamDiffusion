{
 "cells": [
  {
   "cell_type": "code",
   "execution_count": null,
   "id": "387b6c3b",
   "metadata": {},
   "outputs": [],
   "source": [
    "import numpy as np\n",
    "import pandas as pd\n",
    "from scipy.interpolate import interp1d"
   ]
  },
  {
   "cell_type": "markdown",
   "id": "d68fb2d7",
   "metadata": {},
   "source": [
    "MIND WAVE"
   ]
  },
  {
   "cell_type": "code",
   "execution_count": null,
   "id": "5fc714b5",
   "metadata": {},
   "outputs": [
    {
     "name": "stdout",
     "output_type": "stream",
     "text": [
      "(67635, 7)\n"
     ]
    },
    {
     "data": {
      "text/plain": [
       "array([ 0,  1,  4,  8,  5,  7,  2,  9,  3,  6, -1])"
      ]
     },
     "metadata": {},
     "output_type": "display_data"
    }
   ],
   "source": [
    "df = pd.read_csv(\"MW.txt\", delimiter='\\t', header=None) # 4th column is the event marker\n",
    "#print(df.head(10))\n",
    "print(df.shape)\n",
    "df[4].unique()"
   ]
  },
  {
   "cell_type": "code",
   "execution_count": null,
   "id": "04c83e89",
   "metadata": {},
   "outputs": [],
   "source": [
    "df.columns = ['ID', 'Timestamp', 'Subject', 'Channel', 'Stimulus', 'Count', 'Signal']\n",
    "#print(raw_series.head(10))"
   ]
  },
  {
   "cell_type": "code",
   "execution_count": null,
   "id": "ebd2a8cd",
   "metadata": {},
   "outputs": [
    {
     "name": "stdout",
     "output_type": "stream",
     "text": [
      "Median signal length: 953\n"
     ]
    }
   ],
   "source": [
    "#print(df['Signal'].head(10))\n",
    "df['Signal'] = df['Signal'].apply(lambda s: list(map(float, s.split(','))))\n",
    "\n",
    "median_length = int(np.median(df['Count']))\n",
    "\n",
    "print(f\"Median signal length: {median_length}\")\n",
    "\n",
    "def resample_signal(signal, target_length):\n",
    "    if len(signal) == target_length:\n",
    "        return signal  # No resampling needed\n",
    "    if len(signal) < 2:\n",
    "        return np.full(target_length, signal[0] if len(signal) == 1 else 0.0)  # Pad constant\n",
    "    original_indices = np.arange(len(signal))\n",
    "    target_indices = np.linspace(0, len(signal) - 1, target_length)\n",
    "    interpolator = interp1d(original_indices, signal, kind='linear')\n",
    "    return interpolator(target_indices)\n",
    "\n",
    "df['Signal'] = (df['Signal'].apply(lambda s: resample_signal(s, median_length))).T\n",
    "\n",
    "#print(df['Signal'].head(10))  \n",
    "#print(df['Signal'].apply(len))  \n"
   ]
  },
  {
   "cell_type": "code",
   "execution_count": null,
   "id": "207612bd",
   "metadata": {},
   "outputs": [
    {
     "name": "stdout",
     "output_type": "stream",
     "text": [
      "Final shape: (67635, 1, 953)\n",
      "Labels shape: (67635,)\n"
     ]
    }
   ],
   "source": [
    "def interpolate_nans(signal_1d):\n",
    "    if np.isnan(signal_1d).any():\n",
    "        x = np.arange(len(signal_1d))\n",
    "        nan_mask = np.isnan(signal_1d)\n",
    "        signal_1d[nan_mask] = np.interp(x[nan_mask], x[~nan_mask], signal_1d[~nan_mask])\n",
    "    return signal_1d\n",
    "\n",
    "# Process each row as an individual epoch\n",
    "epochs_data = []\n",
    "labels = []\n",
    "\n",
    "for _, row in df.iterrows():\n",
    "    signal = row['Signal']\n",
    "    signal = resample_signal(signal, median_length)\n",
    "    signal = interpolate_nans(signal)\n",
    "\n",
    "    signal = np.array(signal).reshape(1, -1)  # shape: (1, median_length)\n",
    "    epochs_data.append(signal)\n",
    "    labels.append(row['Stimulus']) \n",
    "\n",
    "# Final stacking\n",
    "epochs_data = np.stack(epochs_data, axis=0)  # shape: (n_epochs, 1, median_length)\n",
    "labels = np.array(labels)\n",
    "\n",
    "print(f\"Final shape: {epochs_data.shape}\")\n",
    "print(f\"Labels shape: {labels.shape}\")\n"
   ]
  },
  {
   "cell_type": "code",
   "execution_count": null,
   "id": "33db0552",
   "metadata": {},
   "outputs": [
    {
     "name": "stdout",
     "output_type": "stream",
     "text": [
      "Cleaned dataset shape: (67635, 1, 953) (epochs, channels, times)\n",
      "Stimulus labels (example): [0 1 4 1 8]\n"
     ]
    }
   ],
   "source": [
    "from sklearn.preprocessing import MinMaxScaler\n",
    "\n",
    "n_channels = epochs_data.shape[1]\n",
    "for ch in range(n_channels):\n",
    "    scaler = MinMaxScaler()\n",
    "    # Reshape for scaler: (n_epochs, n_times)\n",
    "    reshaped = epochs_data[:, ch, :]\n",
    "    reshaped_scaled = scaler.fit_transform(reshaped)\n",
    "    epochs_data[:, ch, :] = reshaped_scaled\n",
    "\n",
    "\n",
    "print(f\"Cleaned dataset shape: {epochs_data.shape} (epochs, channels, times)\")\n",
    "print(f\"Stimulus labels (example): {labels[:5]}\")\n"
   ]
  },
  {
   "cell_type": "markdown",
   "id": "9b346a57",
   "metadata": {},
   "source": [
    "MUSE"
   ]
  },
  {
   "cell_type": "code",
   "execution_count": null,
   "id": "ee90abb0",
   "metadata": {},
   "outputs": [
    {
     "name": "stdout",
     "output_type": "stream",
     "text": [
      "(163932, 7)\n"
     ]
    }
   ],
   "source": [
    "df = pd.read_csv(\"MU.txt\", delimiter='\\t', header=None) # 4th column is the event marker\n",
    "#print(df.head(10))\n",
    "print(df.shape)"
   ]
  },
  {
   "cell_type": "code",
   "execution_count": null,
   "id": "6a7efd0c",
   "metadata": {},
   "outputs": [
    {
     "name": "stdout",
     "output_type": "stream",
     "text": [
      "1835\n",
      "[ 6  7  1  8  9  3  2  0  5  4 -1]\n",
      "[459 493 442 476 425 510 527 544 474 461 452 408 486 449 446 506 561 578\n",
      " 495 457 472 463 444 497 438 482 470 508 467 468 492 460 477 458 462 473\n",
      " 464 488 483 469 478 479 485 480 455 440 439 475 465 501 536 612 450 490\n",
      " 454 481 456 453 491 443 484 487 448 471 524 445 451 498 509]\n"
     ]
    }
   ],
   "source": [
    "print(len(df.iloc[0, 6]))\n",
    "print(df[4].unique()) \n",
    "print(df[5].unique())"
   ]
  },
  {
   "cell_type": "code",
   "execution_count": null,
   "id": "73a938e5",
   "metadata": {},
   "outputs": [
    {
     "name": "stdout",
     "output_type": "stream",
     "text": [
      "EEG data shape after concatenation: (4, 19196423)\n"
     ]
    }
   ],
   "source": [
    "sfreq = 250.0  # Hz\n",
    "n_channels = 4  \n",
    "n_blocks = len(df) // n_channels\n",
    "ch_names = df.iloc[0:n_channels, 3].tolist()\n",
    "ch_types = ['eeg'] * n_channels\n",
    "# Initialize signal storage for each channel\n",
    "channel_data = defaultdict(list)\n",
    "\n",
    "# Go through each block and append signal to corresponding channel\n",
    "for i in range(n_blocks):\n",
    "    block = df.iloc[i * n_channels : (i + 1) * n_channels]\n",
    "    for j in range(n_channels):\n",
    "        ch_name = block.iloc[j, 3]\n",
    "        signal_str = block.iloc[j, 6]\n",
    "        signal = [float(x) for x in signal_str.split(',') if x.strip()]\n",
    "        channel_data[ch_name].append(signal)\n",
    "\n",
    "# Concatenate signals per channel to create full time series\n",
    "eeg_data = np.array([np.concatenate(channel_data[name]) for name in ch_names], dtype=np.float32)\n",
    "\n",
    "print(\"EEG data shape after concatenation:\", eeg_data.shape)\n"
   ]
  },
  {
   "cell_type": "code",
   "execution_count": null,
   "id": "bad28289",
   "metadata": {},
   "outputs": [
    {
     "name": "stdout",
     "output_type": "stream",
     "text": [
      "[[475. 474. 477. ... 309. 317. 314.]\n",
      " [468. 487. 493. ... 533. 535. 536.]\n",
      " [482. 475. 490. ... 415. 417. 418.]\n",
      " [470. 470. 478. ... 312. 314. 315.]]\n"
     ]
    }
   ],
   "source": [
    "print(eeg_data)"
   ]
  },
  {
   "cell_type": "code",
   "execution_count": null,
   "id": "bbb5da12",
   "metadata": {},
   "outputs": [
    {
     "name": "stdout",
     "output_type": "stream",
     "text": [
      "Creating RawArray with float64 data, n_channels=4, n_times=19196423\n",
      "    Range : 0 ... 19196422 =      0.000 ... 76785.688 secs\n",
      "Ready.\n"
     ]
    }
   ],
   "source": [
    "# Create MNE Raw object\n",
    "info = mne.create_info(ch_names=ch_names, sfreq=sfreq, ch_types=ch_types)\n",
    "raw = mne.io.RawArray(eeg_data, info)"
   ]
  },
  {
   "cell_type": "code",
   "execution_count": null,
   "id": "480fb70c",
   "metadata": {},
   "outputs": [
    {
     "name": "stdout",
     "output_type": "stream",
     "text": [
      "Filtering raw data in 1 contiguous segment\n",
      "Setting up band-pass filter from 1 - 30 Hz\n",
      "\n",
      "FIR filter parameters\n",
      "---------------------\n",
      "Designing a one-pass, zero-phase, non-causal bandpass filter:\n",
      "- Windowed time-domain design (firwin) method\n",
      "- Hamming window with 0.0194 passband ripple and 53 dB stopband attenuation\n",
      "- Lower passband edge: 1.00\n",
      "- Lower transition bandwidth: 1.00 Hz (-6 dB cutoff frequency: 0.50 Hz)\n",
      "- Upper passband edge: 30.00 Hz\n",
      "- Upper transition bandwidth: 7.50 Hz (-6 dB cutoff frequency: 33.75 Hz)\n",
      "- Filter length: 825 samples (3.300 s)\n",
      "\n"
     ]
    },
    {
     "name": "stderr",
     "output_type": "stream",
     "text": [
      "[Parallel(n_jobs=1)]: Done   4 out of   4 | elapsed:    6.7s finished\n"
     ]
    },
    {
     "data": {
      "text/plain": [
       "250.0"
      ]
     },
     "metadata": {},
     "output_type": "display_data"
    }
   ],
   "source": [
    "raw_filt=raw.copy().filter(l_freq=1, h_freq=30)\n",
    "raw_filt.info['sfreq']"
   ]
  },
  {
   "cell_type": "code",
   "execution_count": null,
   "id": "3b425f34",
   "metadata": {},
   "outputs": [
    {
     "name": "stdout",
     "output_type": "stream",
     "text": [
      "Shape: (40983, 4, 460)\n",
      "Cleaned dataset shape: (40983, 4, 460) (epochs, channels, times)\n",
      "Stimulus labels (example): [3 9 2 3 6]\n"
     ]
    }
   ],
   "source": [
    "df.columns = ['ID', 'Timestamp', 'Subject', 'Channel', 'Stimulus', 'Count', 'Signal']\n",
    "raw_series = df['Signal']\n",
    "\n",
    "time_series = raw_series.apply(lambda x: np.array([float(i) for i in x.split(',')]))\n",
    "df['Signal'] = time_series\n",
    "\n",
    "median_length = int(np.median(df['Count']))\n",
    "\n",
    "def resample_signal(signal, target_length):\n",
    "    original = np.arange(len(signal))\n",
    "    target = np.linspace(0, len(signal)-1, target_length)\n",
    "    return interp1d(original, signal, kind='linear')(target)\n",
    "\n",
    "df['Signal'] = df['Signal'].apply(lambda s: resample_signal(s, median_length))\n",
    "\n",
    "# Divide into groups of 4 rows\n",
    "epochs_data = []\n",
    "for i in range(0, len(df) - 3, 4):  # step by 4\n",
    "    chunk = df.iloc[i:i+4]\n",
    "    if len(chunk) < 4:\n",
    "        continue  # skip incomplete chunks\n",
    "    signals = np.stack(chunk['Signal'].values)  # shape: (4, median_length)\n",
    "    epochs_data.append(signals)\n",
    "\n",
    "epochs_data = np.array(epochs_data)  # shape: (n_chunks, 4, median_length)\n",
    "print(f\"Shape: {epochs_data.shape}\")\n",
    "\n",
    "\n",
    "def interpolate_nans(epoch):\n",
    "    for i in range(epoch.shape[0]):\n",
    "        if np.isnan(epoch[i]).any():\n",
    "            x = np.arange(epoch.shape[1])\n",
    "            y = epoch[i]\n",
    "            nan_mask = np.isnan(y)\n",
    "            y[nan_mask] = np.interp(x[nan_mask], x[~nan_mask], y[~nan_mask])\n",
    "    return epoch\n",
    "\n",
    "epochs_data = np.array([interpolate_nans(e) for e in epochs_data])\n",
    "\n",
    "from sklearn.preprocessing import MinMaxScaler\n",
    "\n",
    "n_channels = epochs_data.shape[1]\n",
    "for ch in range(n_channels):\n",
    "    scaler = MinMaxScaler()\n",
    "    # Reshape for scaler: (n_epochs, n_times)\n",
    "    reshaped = epochs_data[:, ch, :]\n",
    "    reshaped_scaled = scaler.fit_transform(reshaped)\n",
    "    epochs_data[:, ch, :] = reshaped_scaled\n",
    "\n",
    "\n",
    "print(f\"Cleaned dataset shape: {epochs_data.shape} (epochs, channels, times)\")\n",
    "print(f\"Stimulus labels (example): {labels[:5]}\")\n",
    "\n"
   ]
  }
 ],
 "metadata": {
  "language_info": {
   "name": "python"
  }
 },
 "nbformat": 4,
 "nbformat_minor": 5
}
